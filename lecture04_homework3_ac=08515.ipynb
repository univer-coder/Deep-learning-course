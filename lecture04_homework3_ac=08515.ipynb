{
  "cells": [
    {
      "cell_type": "markdown",
      "metadata": {
        "id": "view-in-github",
        "colab_type": "text"
      },
      "source": [
        "<a href=\"https://colab.research.google.com/github/univer-coder/Deep-learning-course/blob/main/lecture04_homework3_ac%3D08515.ipynb\" target=\"_parent\"><img src=\"https://colab.research.google.com/assets/colab-badge.svg\" alt=\"Open In Colab\"/></a>"
      ]
    },
    {
      "cell_type": "markdown",
      "metadata": {
        "id": "MUWcdth_khfN"
      },
      "source": [
        "# 第4回講義 宿題"
      ]
    },
    {
      "cell_type": "markdown",
      "metadata": {
        "id": "gAjuP7I4lWyn"
      },
      "source": [
        "## 課題\n",
        "\n",
        "今Lessonで学んだことを元に，MNISTのファッション版 (Fashion MNIST，クラス数10) を多層パーセプトロンによって分類してみましょう．\n",
        "\n",
        "Fashion MNISTの詳細については以下のリンクを参考にしてください．\n",
        "\n",
        "Fashion MNIST: https://github.com/zalandoresearch/fashion-mnist"
      ]
    },
    {
      "cell_type": "markdown",
      "metadata": {
        "id": "Cpiz19GRlZ_9"
      },
      "source": [
        "### 目標値\n",
        "\n",
        "Accuracy 85%"
      ]
    },
    {
      "cell_type": "markdown",
      "metadata": {
        "id": "qSHeI_utleEN"
      },
      "source": [
        "### ルール\n",
        "\n",
        "\n",
        "- 訓練データは`x_train`， `t_train`，テストデータは`x_test`で与えられます．\n",
        "- 予測ラベルは one_hot表現ではなく0~9のクラスラベル で表してください．\n",
        "- **下のセルで指定されている`x_train`，`t_train`以外の学習データは使わないでください．**\n",
        "- Pytorchを利用して構いません．\n",
        "- ただし，**`torch.nn.Conv2d`のような高レベルのAPIは使用しないで下さい**．具体的には，`nn.Parameter`, `nn.Module`, `nn.Sequential`以外の`nn`系のAPIです．\n",
        "- torchvision等で既に実装されているモデルも使用しないで下さい．"
      ]
    },
    {
      "cell_type": "markdown",
      "metadata": {
        "id": "diuec-_YluI6"
      },
      "source": [
        "### 提出方法\n",
        "- 2つのファイルを提出していただきます．\n",
        "    1. テストデータ (`x_test`) に対する予測ラベルを`submission_pred.csv`として保存し，**Omnicampusの宿題タブから「第4回 ニューラルネットワークの最適化・正則化」を選択して**提出してください．\n",
        "    2. それに対応するpythonのコードを`submission_code.py`として保存し，**Omnicampusの宿題タブから「第4回 ニューラルネットワークの最適化・正則化 (code)」を選択して**提出してください．pythonファイル自体の提出ではなく，「提出内容」の部分にコードをコピー&ペーストしてください．\n",
        "      \n",
        "- なお，採点は1で行い，2はコードの確認用として利用します（成績優秀者はコード内容を公開させていただくかもしれません）．コードの内容を変更した場合は，**1と2の両方を提出し直してください**．"
      ]
    },
    {
      "cell_type": "markdown",
      "metadata": {
        "id": "hofSzJsVlvKp"
      },
      "source": [
        "### 評価方法\n",
        "- 予測ラベルの`t_test`に対する精度 (Accuracy) で評価します．\n",
        "- 即時採点しLeader Boardを更新します（採点スケジュールは別アナウンス）．\n",
        "- 締切時の点数を最終的な評価とします．"
      ]
    },
    {
      "cell_type": "markdown",
      "metadata": {
        "id": "ALYtPC5OjKFM"
      },
      "source": [
        "### ドライブのマウント"
      ]
    },
    {
      "cell_type": "code",
      "execution_count": 1,
      "metadata": {
        "id": "efPoZs_KjKFM",
        "colab": {
          "base_uri": "https://localhost:8080/"
        },
        "outputId": "e3b016e6-c774-4a90-e4ec-f6cf5479f97e"
      },
      "outputs": [
        {
          "output_type": "stream",
          "name": "stdout",
          "text": [
            "Mounted at /content/drive\n"
          ]
        }
      ],
      "source": [
        "from google.colab import drive\n",
        "drive.mount('/content/drive')"
      ]
    },
    {
      "cell_type": "markdown",
      "metadata": {
        "id": "Cu4cmQtelx19"
      },
      "source": [
        "### データの読み込み（この部分は修正しないでください）\n",
        "\n",
        "`__len__`は，Pythonの組み込み関数len()を呼んだときに，内部で呼ばれる特殊メソッドです．\n",
        "\n",
        "`__getitem__`は，インデックスやキーで要素を取得するときに，内部で呼ばれる特殊メソッドです．\n",
        "\n",
        "どちらも， Datasetクラスを自作する際によく登場します．\n",
        "\n",
        "```python\n",
        "class MyList:\n",
        "    def __init__(self, data):\n",
        "        self.data = data\n",
        "\n",
        "    def __len__(self):\n",
        "        return len(self.data)\n",
        "\n",
        "    def __getitem__(self, index):\n",
        "        return self.data[index]\n",
        "\n",
        "mylist = MyList([10, 20, 30])\n",
        "print(len(mylist))  # __len__が呼び出される\n",
        "# 3\n",
        "print(mylist[1])  # __getitem__が呼び出される\n",
        "# 20\n",
        "```"
      ]
    },
    {
      "cell_type": "code",
      "execution_count": 2,
      "metadata": {
        "id": "EsLDDSUJkRx-"
      },
      "outputs": [],
      "source": [
        "import os\n",
        "import numpy as np\n",
        "import pandas as pd\n",
        "import torch\n",
        "import torch.nn as nn\n",
        "import torch.optim as optim\n",
        "import torch.autograd as autograd\n",
        "import inspect\n",
        "import torch._dynamo\n",
        "torch._dynamo.disable()\n",
        "\n",
        "nn_except = [\"Module\", \"Parameter\", \"Sequential\"]\n",
        "for m in inspect.getmembers(nn):\n",
        "    if not m[0] in nn_except and m[0][0:2] != \"__\":\n",
        "        delattr(nn, m[0])\n",
        "\n",
        "seed = 1234\n",
        "torch.manual_seed(seed)\n",
        "np.random.seed(seed)\n",
        "\n",
        "device = torch.device(\"cuda\" if torch.cuda.is_available() else \"cpu\")\n",
        "\n",
        "#学習データ\n",
        "x_train = np.load('drive/MyDrive/Colab Notebooks/DLBasics2025_colab/Lecture04/data/x_train.npy')\n",
        "t_train = np.load('drive/MyDrive/Colab Notebooks/DLBasics2025_colab/Lecture04/data/y_train.npy')\n",
        "\n",
        "#テストデータ\n",
        "x_test = np.load('drive/MyDrive/Colab Notebooks/DLBasics2025_colab/Lecture04/data/x_test.npy')\n",
        "\n",
        "class train_dataset(torch.utils.data.Dataset):\n",
        "    def __init__(self, x_train, t_train):\n",
        "        self.x_train = x_train.reshape(-1, 784).astype('float32') / 255\n",
        "        self.t_train = t_train\n",
        "\n",
        "    def __len__(self):\n",
        "        return self.x_train.shape[0]\n",
        "\n",
        "    def __getitem__(self, idx):\n",
        "        return torch.tensor(self.x_train[idx], dtype=torch.float), torch.tensor(self.t_train[idx], dtype=torch.long)\n",
        "\n",
        "class test_dataset(torch.utils.data.Dataset):\n",
        "    def __init__(self, x_test):\n",
        "        self.x_test = x_test.reshape(-1, 784).astype('float32') / 255\n",
        "\n",
        "    def __len__(self):\n",
        "        return self.x_test.shape[0]\n",
        "\n",
        "    def __getitem__(self, idx):\n",
        "        return torch.tensor(self.x_test[idx], dtype=torch.float)\n",
        "\n",
        "trainval_data = train_dataset(x_train, t_train)\n",
        "test_data = test_dataset(x_test)"
      ]
    },
    {
      "cell_type": "markdown",
      "metadata": {
        "id": "UrSpHDIWOfK_"
      },
      "source": [
        "### 多層パーセプトロンの実装"
      ]
    },
    {
      "cell_type": "code",
      "execution_count": 3,
      "metadata": {
        "id": "sKAe0F36nSvU"
      },
      "outputs": [],
      "source": [
        "batch_size = 32\n",
        "\n",
        "val_size = 10000\n",
        "train_size = len(trainval_data) - val_size\n",
        "\n",
        "train_data, val_data = torch.utils.data.random_split(trainval_data, [train_size, val_size])\n",
        "\n",
        "dataloader_train = torch.utils.data.DataLoader(\n",
        "    train_data,\n",
        "    batch_size=batch_size,\n",
        "    shuffle=True\n",
        ")\n",
        "\n",
        "dataloader_valid = torch.utils.data.DataLoader(\n",
        "    val_data,\n",
        "    batch_size=batch_size,\n",
        "    shuffle=True\n",
        ")\n",
        "\n",
        "dataloader_test = torch.utils.data.DataLoader(\n",
        "    test_data,\n",
        "    batch_size=batch_size,\n",
        "    shuffle=False\n",
        ")"
      ]
    },
    {
      "cell_type": "code",
      "execution_count": 8,
      "metadata": {
        "id": "PADQiKNa2snb"
      },
      "outputs": [],
      "source": [
        "def relu(x):\n",
        "    return torch.relu(x)\n",
        "\n",
        "\n",
        "def cross_entropy_loss(y_logit, t_hot):\n",
        "    logsumexp = torch.logsumexp(y_logit, dim=1, keepdim=True)\n",
        "    log_probs = y_logit - logsumexp\n",
        "    return -(t_hot * log_probs).sum(dim=1).mean()\n",
        "\n",
        "\n",
        "# 過学習を防ぐdropout\n",
        "class Dropout(nn.Module):\n",
        "    def __init__(self, p=0.1):\n",
        "        super().__init__()\n",
        "        self.p = p\n",
        "\n",
        "    def forward(self, x):\n",
        "        if self.training:\n",
        "            mask = (torch.rand_like(x) > self.p).float()\n",
        "            return x * mask / (1.0 - self.p)\n",
        "        else:\n",
        "            return x\n",
        "\n",
        "\n",
        "class Dense(nn.Module):  # nn.Moduleを継承する\n",
        "    def __init__(self, in_dim, out_dim, function=lambda x: x):\n",
        "        super().__init__()\n",
        "        self.W = nn.Parameter(torch.tensor(np.random.uniform(\n",
        "                        low=-np.sqrt(6/in_dim),\n",
        "                        high=np.sqrt(6/in_dim),\n",
        "                        size=(in_dim, out_dim)\n",
        "                    ), dtype=torch.float32))\n",
        "        self.b = nn.Parameter(torch.tensor(np.zeros([out_dim]), dtype=torch.float32))\n",
        "        self.function = function\n",
        "\n",
        "    def forward(self, x):\n",
        "        return self.function(torch.matmul(x, self.W) + self.b)\n",
        "\n",
        "\n",
        "class MLP(nn.Module):\n",
        "    def __init__(self, in_dim, hid_dims, out_dim, dropout_p=0.1):\n",
        "        super(MLP, self).__init__()\n",
        "        layers = []\n",
        "        input_dim = in_dim\n",
        "\n",
        "        for hid_dim in hid_dims:\n",
        "            layers.append(Dense(input_dim, hid_dim, function=relu))\n",
        "            layers.append(Dropout(p=dropout_p))\n",
        "            input_dim = hid_dim\n",
        "\n",
        "        layers.append(Dense(input_dim, out_dim))\n",
        "        self.model = nn.Sequential(*layers)\n",
        "\n",
        "    def forward(self, x):\n",
        "        return self.model(x)\n",
        "\n",
        "n_epochs = 30\n",
        "drop_rate = 0.1\n",
        "\n",
        "in_dim = 784\n",
        "out_dim = 10\n",
        "hid_dims = [256, 128, 64]\n",
        "lr = 0.0005\n",
        "mlp = MLP(in_dim=784, hid_dims=hid_dims, out_dim=10, dropout_p=0.1).to(device)\n",
        "optimizer = torch.optim.Adam(mlp.parameters(), lr=lr, weight_decay=0.01)\n",
        "\n",
        "best_val_accuracy = 0\n",
        "patience = 10\n",
        "patience_counter = 0\n",
        "best_weights = None\n",
        "one_hot = torch.eye(10, device=device)"
      ]
    },
    {
      "cell_type": "code",
      "execution_count": 9,
      "metadata": {
        "id": "nlOZuLu-328i",
        "colab": {
          "base_uri": "https://localhost:8080/"
        },
        "outputId": "06e62f24-f3ff-404c-fd36-53f8e9386fbd"
      },
      "outputs": [
        {
          "output_type": "stream",
          "name": "stdout",
          "text": [
            "EPOCH: 0, Train [Loss: 0.652, Accuracy: 0.773], Valid [Loss: 0.540, Accuracy: 0.821]\n",
            "EPOCH: 1, Train [Loss: 0.547, Accuracy: 0.811], Valid [Loss: 0.476, Accuracy: 0.836]\n",
            "EPOCH: 2, Train [Loss: 0.533, Accuracy: 0.816], Valid [Loss: 0.510, Accuracy: 0.821]\n",
            "EPOCH: 3, Train [Loss: 0.526, Accuracy: 0.817], Valid [Loss: 0.484, Accuracy: 0.836]\n",
            "EPOCH: 4, Train [Loss: 0.522, Accuracy: 0.820], Valid [Loss: 0.481, Accuracy: 0.832]\n",
            "EPOCH: 5, Train [Loss: 0.516, Accuracy: 0.823], Valid [Loss: 0.515, Accuracy: 0.812]\n",
            "EPOCH: 6, Train [Loss: 0.512, Accuracy: 0.824], Valid [Loss: 0.470, Accuracy: 0.836]\n",
            "EPOCH: 7, Train [Loss: 0.512, Accuracy: 0.825], Valid [Loss: 0.480, Accuracy: 0.831]\n",
            "EPOCH: 8, Train [Loss: 0.503, Accuracy: 0.828], Valid [Loss: 0.466, Accuracy: 0.835]\n",
            "EPOCH: 9, Train [Loss: 0.501, Accuracy: 0.828], Valid [Loss: 0.480, Accuracy: 0.828]\n",
            "EPOCH: 10, Train [Loss: 0.504, Accuracy: 0.825], Valid [Loss: 0.458, Accuracy: 0.840]\n",
            "EPOCH: 11, Train [Loss: 0.497, Accuracy: 0.829], Valid [Loss: 0.462, Accuracy: 0.845]\n",
            "EPOCH: 12, Train [Loss: 0.495, Accuracy: 0.831], Valid [Loss: 0.474, Accuracy: 0.835]\n",
            "EPOCH: 13, Train [Loss: 0.499, Accuracy: 0.828], Valid [Loss: 0.440, Accuracy: 0.846]\n",
            "EPOCH: 14, Train [Loss: 0.494, Accuracy: 0.832], Valid [Loss: 0.515, Accuracy: 0.807]\n",
            "EPOCH: 15, Train [Loss: 0.498, Accuracy: 0.830], Valid [Loss: 0.464, Accuracy: 0.835]\n",
            "EPOCH: 16, Train [Loss: 0.493, Accuracy: 0.831], Valid [Loss: 0.469, Accuracy: 0.835]\n",
            "EPOCH: 17, Train [Loss: 0.493, Accuracy: 0.831], Valid [Loss: 0.453, Accuracy: 0.844]\n",
            "EPOCH: 18, Train [Loss: 0.494, Accuracy: 0.832], Valid [Loss: 0.450, Accuracy: 0.850]\n",
            "EPOCH: 19, Train [Loss: 0.496, Accuracy: 0.831], Valid [Loss: 0.471, Accuracy: 0.835]\n",
            "EPOCH: 20, Train [Loss: 0.494, Accuracy: 0.830], Valid [Loss: 0.445, Accuracy: 0.847]\n",
            "EPOCH: 21, Train [Loss: 0.491, Accuracy: 0.832], Valid [Loss: 0.445, Accuracy: 0.846]\n",
            "EPOCH: 22, Train [Loss: 0.493, Accuracy: 0.831], Valid [Loss: 0.439, Accuracy: 0.848]\n",
            "EPOCH: 23, Train [Loss: 0.491, Accuracy: 0.833], Valid [Loss: 0.447, Accuracy: 0.844]\n",
            "EPOCH: 24, Train [Loss: 0.491, Accuracy: 0.832], Valid [Loss: 0.447, Accuracy: 0.846]\n",
            "EPOCH: 25, Train [Loss: 0.492, Accuracy: 0.832], Valid [Loss: 0.451, Accuracy: 0.847]\n",
            "EPOCH: 26, Train [Loss: 0.487, Accuracy: 0.834], Valid [Loss: 0.459, Accuracy: 0.844]\n",
            "EPOCH: 27, Train [Loss: 0.493, Accuracy: 0.832], Valid [Loss: 0.457, Accuracy: 0.842]\n",
            "EPOCH: 28, Train [Loss: 0.490, Accuracy: 0.832], Valid [Loss: 0.444, Accuracy: 0.850]\n",
            "EPOCH: 29, Train [Loss: 0.490, Accuracy: 0.831], Valid [Loss: 0.439, Accuracy: 0.848]\n"
          ]
        }
      ],
      "source": [
        "for epoch in range(n_epochs):\n",
        "    losses_train = []\n",
        "    losses_valid = []\n",
        "    train_num = 0\n",
        "    train_true_num = 0\n",
        "    valid_num = 0\n",
        "    valid_true_num = 0\n",
        "\n",
        "    mlp.train()  # 訓練時には勾配を計算するtrainモードにする\n",
        "    for x, t in dataloader_train:\n",
        "        t_hot = one_hot[t]\n",
        "\n",
        "        # テンソルをGPUに移動\n",
        "        x = x.to(device)\n",
        "        t_hot = t_hot.to(device)\n",
        "\n",
        "        # 順伝播　勾配計算なし\n",
        "        y = mlp(x)\n",
        "\n",
        "        # 誤差の計算(クロスエントロピー誤差関数)\n",
        "        loss = cross_entropy_loss(y, t_hot)\n",
        "\n",
        "        # 誤差の逆伝播\n",
        "        optimizer.zero_grad()\n",
        "        loss.backward()\n",
        "\n",
        "        # パラメータの更新\n",
        "        optimizer.step()\n",
        "\n",
        "        # モデルの出力を予測値のスカラーに変換\n",
        "        pred = y.argmax(1)\n",
        "\n",
        "        losses_train.append(loss.tolist())\n",
        "\n",
        "        acc = torch.where(t - pred.to(\"cpu\") == 0, torch.ones_like(t), torch.zeros_like(t))\n",
        "        train_num += acc.size()[0]\n",
        "        train_true_num += acc.sum().item()\n",
        "\n",
        "    mlp.eval()  # 評価時には勾配を計算しないevalモードにする\n",
        "    for x, t in dataloader_valid:\n",
        "        t_hot = one_hot[t]  # 正解ラベルをone-hot vector化\n",
        "\n",
        "        # テンソルをGPUに移動\n",
        "        x = x.to(device)\n",
        "        t_hot = t_hot.to(device)\n",
        "\n",
        "        # 順伝播　勾配計算なし\n",
        "        with torch.no_grad():\n",
        "            y = mlp(x)\n",
        "\n",
        "            # 誤差の計算(クロスエントロピー誤差関数)\n",
        "            loss = cross_entropy_loss(y, t_hot)\n",
        "\n",
        "            # モデルの出力を予測値のスカラーに変換\n",
        "            pred = y.argmax(1)\n",
        "\n",
        "            losses_valid.append(loss.tolist())\n",
        "\n",
        "            acc = torch.where(t - pred.to(\"cpu\") == 0, torch.ones_like(t), torch.zeros_like(t))\n",
        "            valid_num += acc.size()[0]\n",
        "            valid_true_num += acc.sum().item()\n",
        "\n",
        "    print('EPOCH: {}, Train [Loss: {:.3f}, Accuracy: {:.3f}], Valid [Loss: {:.3f}, Accuracy: {:.3f}]'.format(\n",
        "        epoch,\n",
        "        np.mean(losses_train),\n",
        "        train_true_num/train_num,\n",
        "        np.mean(losses_valid),\n",
        "        valid_true_num/valid_num\n",
        "    ))\n",
        "\n",
        "    # Early stopping 条件のチェック\n",
        "    current_val_accuracy = valid_true_num / valid_num\n",
        "    if current_val_accuracy > best_val_accuracy:\n",
        "        best_val_accuracy = current_val_accuracy\n",
        "        best_weights = [p.detach().clone() for p in mlp.parameters()]\n",
        "        patience_counter = 0\n",
        "    else:\n",
        "        patience_counter += 1\n",
        "\n",
        "    if patience_counter >= patience:\n",
        "        print(f\"Early stopping triggered at epoch {epoch}\")\n",
        "        break\n",
        "\n",
        "\n",
        "# 一番良かった重みに戻す\n",
        "if best_weights:\n",
        "    with torch.no_grad():\n",
        "        for p, best_p in zip(mlp.parameters(), best_weights):\n",
        "            p.copy_(best_p)"
      ]
    },
    {
      "cell_type": "code",
      "execution_count": 10,
      "metadata": {
        "id": "Yq3scS5j4Rt2"
      },
      "outputs": [],
      "source": [
        "mlp.eval()\n",
        "\n",
        "t_pred = []\n",
        "for x in dataloader_test:\n",
        "\n",
        "    x = x.to(device)\n",
        "\n",
        "    # 順伝播\n",
        "    y = mlp.forward(x)\n",
        "\n",
        "    # モデルの出力を予測値のスカラーに変換\n",
        "    pred = y.argmax(1).tolist()\n",
        "\n",
        "    t_pred.extend(pred)\n",
        "\n",
        "submission = pd.Series(t_pred, name='label')\n",
        "submission.to_csv('drive/MyDrive/Colab Notebooks/DLBasics2025_colab/Lecture04/submission3_pred.csv', header=True, index_label='id')"
      ]
    }
  ],
  "metadata": {
    "colab": {
      "provenance": [],
      "gpuType": "T4",
      "include_colab_link": true
    },
    "kernelspec": {
      "display_name": "Python 3",
      "name": "python3"
    },
    "language_info": {
      "codemirror_mode": {
        "name": "ipython",
        "version": 3
      },
      "file_extension": ".py",
      "mimetype": "text/x-python",
      "name": "python",
      "nbconvert_exporter": "python",
      "pygments_lexer": "ipython3",
      "version": "3.6.2"
    },
    "accelerator": "GPU"
  },
  "nbformat": 4,
  "nbformat_minor": 0
}