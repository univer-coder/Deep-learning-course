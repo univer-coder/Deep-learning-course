{
  "cells": [
    {
      "cell_type": "markdown",
      "metadata": {
        "id": "view-in-github",
        "colab_type": "text"
      },
      "source": [
        "<a href=\"https://colab.research.google.com/github/univer-coder/Deep-learning-course/blob/main/lecture02_homework.ipynb\" target=\"_parent\"><img src=\"https://colab.research.google.com/assets/colab-badge.svg\" alt=\"Open In Colab\"/></a>"
      ]
    },
    {
      "cell_type": "markdown",
      "metadata": {
        "id": "03FTy4lwzXiQ"
      },
      "source": [
        "# 第2回講義 宿題"
      ]
    },
    {
      "cell_type": "markdown",
      "metadata": {
        "id": "JtnWqKVGzXiT"
      },
      "source": [
        "## 課題\n",
        "今回のLessonで学んだことを元に，MNISTのファッション版 (Fashion MNIST，クラス数10) をソフトマックス回帰によって分類してみましょう．\n",
        "\n",
        "Fashion MNISTの詳細については以下のリンクを参考にしてください．\n",
        "\n",
        "Fashion MNIST: https://github.com/zalandoresearch/fashion-mnist"
      ]
    },
    {
      "cell_type": "markdown",
      "metadata": {
        "id": "zyD3F677zXiU"
      },
      "source": [
        "### 目標値\n",
        "Accuracy: 80%"
      ]
    },
    {
      "cell_type": "markdown",
      "metadata": {
        "id": "9pt9rMcxzXiU"
      },
      "source": [
        "### ルール\n",
        "- 訓練データは`x_train`， `y_train`，テストデータは`x_test`で与えられます．\n",
        "- 予測ラベルは one_hot表現ではなく0~9のクラスラベル で表してください．\n",
        "- **下のセルで指定されている`x_train、y_train`以外の学習データは使わないでください．**\n",
        "- **ソフトマックス回帰のアルゴリズム部分の実装はnumpyのみで行ってください** (sklearnやtensorflowなどは使用しないでください)．\n",
        "    - データの前処理部分でsklearnの関数を使う (例えば `sklearn.model_selection.train_test_split`) のは問題ありません．"
      ]
    },
    {
      "cell_type": "markdown",
      "metadata": {
        "id": "2bq41q5SzXiV"
      },
      "source": [
        "### 提出方法\n",
        "- 2つのファイルを提出していただきます．\n",
        "    1. テストデータ (`x_test`) に対する予測ラベルを`submission_pred.csv`として保存し，**Omnicampusの宿題タブから「第2回 機械学習基礎」を選択して**提出してください．\n",
        "    2. それに対応するpythonのコードを`submission_code.py`として保存し，**Omnicampusの宿題タブから「第2回 機械学習基礎 (code)」を選択して**提出してください．pythonファイル自体の提出ではなく，「提出内容」の部分にコードをコピー&ペーストしてください．\n",
        "      \n",
        "- なお，採点は1で行い，2はコードの確認用として利用します（成績優秀者はコード内容を公開させていただくかもしれません）．コードの内容を変更した場合は，**1と2の両方を提出し直してください**．"
      ]
    },
    {
      "cell_type": "markdown",
      "metadata": {
        "id": "KJKR8DMtzXiW"
      },
      "source": [
        "### 評価方法\n",
        "- 予測ラベルの`y_test`に対する精度 (Accuracy) で評価します．\n",
        "- 即時採点しLeader Boardを更新します（採点スケジュールは別アナウンス）．\n",
        "- 締切時の点数を最終的な評価とします．"
      ]
    },
    {
      "cell_type": "markdown",
      "metadata": {
        "id": "RVM6MjD_4Okx"
      },
      "source": [
        "### ドライブのマウント"
      ]
    },
    {
      "cell_type": "code",
      "execution_count": null,
      "metadata": {
        "id": "1oI-Fjs4btCn"
      },
      "outputs": [],
      "source": [
        "from google.colab import drive\n",
        "drive.mount('/content/drive')"
      ]
    },
    {
      "cell_type": "markdown",
      "metadata": {
        "id": "r20uRSCUzXiX"
      },
      "source": [
        "### データの読み込み（このセルは修正しないでください）"
      ]
    },
    {
      "cell_type": "code",
      "execution_count": null,
      "metadata": {
        "id": "OZodouZWzXiX"
      },
      "outputs": [],
      "source": [
        "import os\n",
        "import sys\n",
        "\n",
        "import numpy as np\n",
        "import pandas as pd\n",
        "\n",
        "sys.modules['tensorflow'] = None\n",
        "\n",
        "def load_fashionmnist():\n",
        "    # 学習データ\n",
        "    x_train = np.load('drive/MyDrive/Colab Notebooks/DLBasics2025_colab/Lecture02/data/x_train.npy')\n",
        "    y_train = np.load('drive/MyDrive/Colab Notebooks/DLBasics2025_colab/Lecture02/data/y_train.npy')\n",
        "\n",
        "    # テストデータ\n",
        "    x_test = np.load('drive/MyDrive/Colab Notebooks/DLBasics2025_colab/Lecture02/data/x_test.npy')\n",
        "\n",
        "    x_train = x_train.reshape(-1, 784).astype('float32') / 255\n",
        "    y_train = np.eye(10)[y_train.astype('int32')]\n",
        "    x_test = x_test.reshape(-1, 784).astype('float32') / 255\n",
        "\n",
        "    return x_train, y_train, x_test"
      ]
    },
    {
      "cell_type": "markdown",
      "metadata": {
        "id": "mHynK8xAzXid"
      },
      "source": [
        "### ソフトマックス回帰の実装"
      ]
    },
    {
      "cell_type": "code",
      "execution_count": null,
      "metadata": {
        "id": "gU9E1ppuzXie"
      },
      "outputs": [],
      "source": [
        "x_train, y_train, x_test = load_fashionmnist()\n",
        "\n",
        "from sklearn.metrics import accuracy_score\n",
        "from sklearn.model_selection import train_test_split\n",
        "\n",
        "def softmax(x):\n",
        "    # WRITE ME\n",
        "\n",
        "# 重み\n",
        "W = # WRITE ME\n",
        "b = # WRITE ME\n",
        "\n",
        "# 学習データと検証データに分割\n",
        "x_train, x_valid, y_train, y_valid = train_test_split(x_train, y_train, test_size=0.1)\n",
        "\n",
        "def train(x, t, eps=1.0):\n",
        "    # WRITE ME\n",
        "\n",
        "def valid(x, t):\n",
        "    # WRITE ME\n",
        "\n",
        "for epoch in range(1):\n",
        "    # WRITE ME\n",
        "\n",
        "y_pred = # WRITE ME\n",
        "\n",
        "submission = pd.Series(y_pred, name='label')\n",
        "submission.to_csv('drive/MyDrive/Colab Notebooks/DLBasics2025_colab/Lecture02/submission_pred.csv', header=True, index_label='id')"
      ]
    }
  ],
  "metadata": {
    "colab": {
      "provenance": [],
      "include_colab_link": true
    },
    "kernelspec": {
      "display_name": "Python 3",
      "language": "python",
      "name": "python3"
    },
    "language_info": {
      "codemirror_mode": {
        "name": "ipython",
        "version": 3
      },
      "file_extension": ".py",
      "mimetype": "text/x-python",
      "name": "python",
      "nbconvert_exporter": "python",
      "pygments_lexer": "ipython3",
      "version": "3.6.2"
    }
  },
  "nbformat": 4,
  "nbformat_minor": 0
}