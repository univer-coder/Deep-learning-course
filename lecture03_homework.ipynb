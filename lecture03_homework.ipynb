{
  "nbformat": 4,
  "nbformat_minor": 0,
  "metadata": {
    "colab": {
      "provenance": [],
      "include_colab_link": true
    },
    "kernelspec": {
      "display_name": "Python 3",
      "language": "python",
      "name": "python3"
    },
    "language_info": {
      "codemirror_mode": {
        "name": "ipython",
        "version": 3
      },
      "file_extension": ".py",
      "mimetype": "text/x-python",
      "name": "python",
      "nbconvert_exporter": "python",
      "pygments_lexer": "ipython3",
      "version": "3.6.2"
    },
    "gpuClass": "standard"
  },
  "cells": [
    {
      "cell_type": "markdown",
      "metadata": {
        "id": "view-in-github",
        "colab_type": "text"
      },
      "source": [
        "<a href=\"https://colab.research.google.com/github/univer-coder/Deep-learning-course/blob/main/lecture03_homework.ipynb\" target=\"_parent\"><img src=\"https://colab.research.google.com/assets/colab-badge.svg\" alt=\"Open In Colab\"/></a>"
      ]
    },
    {
      "cell_type": "markdown",
      "metadata": {
        "id": "MUWcdth_khfN"
      },
      "source": [
        "# 第3回講義 宿題"
      ]
    },
    {
      "cell_type": "markdown",
      "metadata": {
        "id": "gAjuP7I4lWyn"
      },
      "source": [
        "## 課題\n",
        "\n",
        "今回のLessonで学んだことを元に，MNISTのファッション版 (Fashion MNIST，クラス数10) を多層パーセプトロンによって分類してみましょう．\n",
        "\n",
        "Fashion MNISTの詳細については以下のリンクを参考にしてください．\n",
        "\n",
        "Fashion MNIST: https://github.com/zalandoresearch/fashion-mnist"
      ]
    },
    {
      "cell_type": "markdown",
      "metadata": {
        "id": "Cpiz19GRlZ_9"
      },
      "source": [
        "### 目標値\n",
        "\n",
        "Accuracy 85%"
      ]
    },
    {
      "cell_type": "markdown",
      "metadata": {
        "id": "qSHeI_utleEN"
      },
      "source": [
        "### ルール\n",
        "\n",
        "- 訓練データは`x_train`， `t_train`，テストデータは`x_test`で与えられます．\n",
        "- 予測ラベルは one_hot表現ではなく0~9のクラスラベル で表してください．\n",
        "- **下のセルで指定されている`x_train`，`t_train`以外の学習データは使わないでください．**\n",
        "- **多層パーセプトロンのアルゴリズム部分は第3回の演習を参考に，NumPyのみで実装してください．** (sklearnやtensorflowなどは使用しないでください)．\n",
        "    - データの前処理部分でsklearnの関数を使う (例えば `sklearn.model_selection.train_test_split`) のは問題ありません．"
      ]
    },
    {
      "cell_type": "markdown",
      "metadata": {
        "id": "diuec-_YluI6"
      },
      "source": [
        "### 提出方法\n",
        "- 2つのファイルを提出していただきます．\n",
        "    1. テストデータ (`x_test`) に対する予測ラベルを`submission_pred.csv`として保存し，**Omnicampusの宿題タブから「第3回 ニューラルネットワーク基礎」を選択して**提出してください．\n",
        "    2. それに対応するpythonのコードを`submission_code.py`として保存し，**Omnicampusの宿題タブから「第3回 ニューラルネットワーク基礎 (code)」を選択して**提出してください．pythonファイル自体の提出ではなく，「提出内容」の部分にコードをコピー&ペーストしてください．\n",
        "      \n",
        "- なお，採点は1で行い，2はコードの確認用として利用します（成績優秀者はコード内容を公開させていただくかもしれません）．コードの内容を変更した場合は，**1と2の両方を提出し直してください**．"
      ]
    },
    {
      "cell_type": "markdown",
      "metadata": {
        "id": "hofSzJsVlvKp"
      },
      "source": [
        "### 評価方法\n",
        "- 予測ラベルの`t_test`に対する精度 (Accuracy) で評価します．\n",
        "- 即時採点しLeader Boardを更新します（採点スケジュールは別アナウンス）．\n",
        "- 締切時の点数を最終的な評価とします．"
      ]
    },
    {
      "cell_type": "markdown",
      "source": [
        "### ドライブのマウント"
      ],
      "metadata": {
        "id": "YY9xMqFk8X5g"
      }
    },
    {
      "cell_type": "code",
      "source": [
        "from google.colab import drive\n",
        "drive.mount('/content/drive')"
      ],
      "metadata": {
        "id": "bxtkyWpYv07M"
      },
      "execution_count": null,
      "outputs": []
    },
    {
      "cell_type": "markdown",
      "metadata": {
        "id": "Cu4cmQtelx19"
      },
      "source": [
        "### データの読み込み（このセルは修正しないでください）"
      ]
    },
    {
      "cell_type": "code",
      "metadata": {
        "id": "EsLDDSUJkRx-"
      },
      "source": [
        "import os\n",
        "import numpy as np\n",
        "import pandas as pd\n",
        "from sklearn.utils import shuffle\n",
        "from sklearn.metrics import accuracy_score\n",
        "from sklearn.model_selection import train_test_split\n",
        "import inspect\n",
        "\n",
        "\n",
        "#学習データ\n",
        "x_train = np.load('drive/MyDrive/Colab Notebooks/DLBasics2025_colab/Lecture03/data/x_train.npy')\n",
        "t_train = np.load('drive/MyDrive/Colab Notebooks/DLBasics2025_colab/Lecture03/data/y_train.npy')\n",
        "\n",
        "#テストデータ\n",
        "x_test = np.load('drive/MyDrive/Colab Notebooks/DLBasics2025_colab/Lecture03/data/x_test.npy')\n",
        "\n",
        "# データの前処理（正規化， one-hot encoding)\n",
        "x_train, x_test = x_train / 255., x_test / 255.\n",
        "x_train, x_test = x_train.reshape(x_train.shape[0], -1), x_test.reshape(x_test.shape[0], -1)\n",
        "t_train = np.eye(N=10)[t_train.astype(\"int32\").flatten()]"
      ],
      "execution_count": null,
      "outputs": []
    },
    {
      "cell_type": "markdown",
      "metadata": {
        "id": "UrSpHDIWOfK_"
      },
      "source": [
        "### 多層パーセプトロンの実装"
      ]
    },
    {
      "cell_type": "code",
      "metadata": {
        "id": "sKAe0F36nSvU"
      },
      "source": [
        "# データの分割\n",
        "x_train, x_val, t_train, t_val =\\\n",
        "    train_test_split(x_train, t_train, test_size=10000)"
      ],
      "execution_count": null,
      "outputs": []
    },
    {
      "cell_type": "code",
      "source": [
        "def np_log(x):\n",
        "    return np.log(np.clip(x, 1e-10, 1e+10))\n",
        "\n",
        "\n",
        "def create_batch(data, batch_size):\n",
        "    \"\"\"\n",
        "    :param data: np.ndarray，入力データ\n",
        "    :param batch_size: int，バッチサイズ\n",
        "    \"\"\"\n",
        "    num_batches, mod = divmod(data.shape[0], batch_size)\n",
        "    batched_data = np.split(data[: batch_size * num_batches], num_batches)\n",
        "    if mod:\n",
        "        batched_data.append(data[batch_size * num_batches:])\n",
        "\n",
        "    return batched_data"
      ],
      "metadata": {
        "id": "IlzwRoG5X7ZP"
      },
      "execution_count": null,
      "outputs": []
    },
    {
      "cell_type": "code",
      "source": [
        "# シード値を変えることで何が起きるかも確かめてみてください．\n",
        "rng = np.random.RandomState(1234)\n",
        "random_state = 42\n",
        "\n",
        "\n",
        "# 発展: 今回の講義で扱っていない活性化関数について調べ，実装してみましょう\n",
        "def relu(x):\n",
        "    return np.maximum(x, 0)\n",
        "\n",
        "\n",
        "def deriv_relu(x):\n",
        "    return (x > 0).astype(x.dtype)\n",
        "\n",
        "\n",
        "def softmax(x):\n",
        "    x -= x.max(axis=1, keepdims=True)\n",
        "    x_exp = np.exp(x)\n",
        "    return x_exp / np.sum(x_exp, axis=1, keepdims=True)\n",
        "\n",
        "\n",
        "def deriv_softmax(x):\n",
        "    return softmax(x) * (1 - softmax(x))\n",
        "\n",
        "\n",
        "def crossentropy_loss(t, y):\n",
        "    # WRITE ME\n",
        "\n",
        "\n",
        "class Dense:\n",
        "    # WRITE ME\n",
        "\n",
        "\n",
        "class Model:\n",
        "    # WRITE ME\n",
        "\n",
        "lr = # WRITE ME\n",
        "n_epochs = # WRITE ME\n",
        "batch_size = # WRITE ME\n",
        "\n",
        "mlp = # WRITE ME"
      ],
      "metadata": {
        "id": "PADQiKNa2snb"
      },
      "execution_count": null,
      "outputs": []
    },
    {
      "cell_type": "markdown",
      "source": [
        "### モデルの学習"
      ],
      "metadata": {
        "id": "I1IXxVHfT9O9"
      }
    },
    {
      "cell_type": "code",
      "source": [
        "def train_model(mlp, x_train, t_train, x_val, t_val, n_epochs=10):\n",
        "    for epoch in range(n_epochs):\n",
        "        losses_train = []\n",
        "        losses_valid = []\n",
        "        train_num = 0\n",
        "        train_true_num = 0\n",
        "        valid_num = 0\n",
        "        valid_true_num = 0\n",
        "\n",
        "        x_train, t_train = shuffle(x_train, t_train)\n",
        "        x_train_batches, t_train_batches = create_batch(x_train, batch_size), create_batch(t_train, batch_size)\n",
        "\n",
        "        x_val, t_val = shuffle(x_val, t_val)\n",
        "        x_val_batches, t_val_batches = create_batch(x_val, batch_size), create_batch(t_val, batch_size)\n",
        "\n",
        "        # モデルの訓練\n",
        "        for x, t in zip(x_train_batches, t_train_batches):\n",
        "            # 順伝播\n",
        "            # WRITE ME\n",
        "\n",
        "            # 損失の計算\n",
        "            # WRITE ME\n",
        "            losses_train.append(loss.tolist())\n",
        "\n",
        "            # パラメータの更新\n",
        "            # WRITE ME\n",
        "\n",
        "            # 精度を計算\n",
        "            acc = accuracy_score(t.argmax(axis=1), y.argmax(axis=1), normalize=False)\n",
        "            train_num += x.shape[0]\n",
        "            train_true_num += acc\n",
        "\n",
        "        # モデルの評価\n",
        "        for x, t in zip(x_val_batches, t_val_batches):\n",
        "            # 順伝播\n",
        "            # WRITE ME\n",
        "\n",
        "            # 損失の計算\n",
        "            # WRITE ME\n",
        "            losses_valid.append(loss.tolist())\n",
        "\n",
        "            acc = accuracy_score(t.argmax(axis=1), y.argmax(axis=1), normalize=False)\n",
        "            valid_num += x.shape[0]\n",
        "            valid_true_num += acc.sum().item()\n",
        "\n",
        "        print('EPOCH: {}, Train [Loss: {:.3f}, Accuracy: {:.3f}], Valid [Loss: {:.3f}, Accuracy: {:.3f}]'.format(\n",
        "            epoch,\n",
        "            np.mean(losses_train),\n",
        "            train_true_num/train_num,\n",
        "            np.mean(losses_valid),\n",
        "            valid_true_num/valid_num\n",
        "        ))\n",
        "\n",
        "\n",
        "train_model(mlp, x_train, t_train, x_val, t_val, n_epochs)"
      ],
      "metadata": {
        "id": "iUrJQQhUlfCi"
      },
      "execution_count": null,
      "outputs": []
    },
    {
      "cell_type": "code",
      "metadata": {
        "id": "Yq3scS5j4Rt2"
      },
      "source": [
        "t_pred = []\n",
        "for x in x_test:\n",
        "    # 順伝播\n",
        "    x = x[np.newaxis, :]\n",
        "    y = mlp(x)\n",
        "\n",
        "    # モデルの出力を予測値のスカラーに変換\n",
        "    pred = y.argmax(1).tolist()\n",
        "\n",
        "    t_pred.extend(pred)\n",
        "\n",
        "submission = pd.Series(t_pred, name='label')\n",
        "submission.to_csv('drive/MyDrive/Colab Notebooks/DLBasics2025_colab/Lecture03/submission_pred.csv', header=True, index_label='id')"
      ],
      "execution_count": null,
      "outputs": []
    }
  ]
}